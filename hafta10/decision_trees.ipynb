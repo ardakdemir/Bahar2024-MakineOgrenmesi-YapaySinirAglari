{
 "cells": [
  {
   "cell_type": "markdown",
   "metadata": {},
   "source": [
    "Not: Veri setini bu linkten indirebilirsiniz: https://www.kaggle.com/datasets/parisrohan/credit-score-classification"
   ]
  },
  {
   "cell_type": "code",
   "execution_count": null,
   "metadata": {},
   "outputs": [],
   "source": [
    "import matplotlib.pyplot as plt\n",
    "import numpy as np"
   ]
  },
  {
   "cell_type": "code",
   "execution_count": null,
   "metadata": {},
   "outputs": [],
   "source": [
    "ps = np.linspace(0.001,.9999,100)\n",
    "\n",
    "def gini_index(ps):\n",
    "    return 2* ps * (1-ps)\n",
    "\n",
    "def misclass(ps):\n",
    "    return 1 - np.maximum(ps,1-ps)\n",
    "\n",
    "def entropy(ps):\n",
    "    return -ps * np.log2(ps) - (1-ps)* np.log2(1-ps)"
   ]
  },
  {
   "cell_type": "code",
   "execution_count": null,
   "metadata": {},
   "outputs": [],
   "source": [
    "plt.plot(ps,gini_index(ps),label='gini-index')\n",
    "plt.plot(ps,misclass(ps),label='misclass')\n",
    "plt.plot(ps,entropy(ps),label='entropy')\n",
    "plt.legend()\n",
    "plt.show()"
   ]
  },
  {
   "cell_type": "code",
   "execution_count": null,
   "metadata": {},
   "outputs": [],
   "source": [
    "import pandas as pd \n",
    "train_df = pd.read_csv('train.csv')\n",
    "len(train_df)"
   ]
  },
  {
   "cell_type": "code",
   "execution_count": null,
   "metadata": {},
   "outputs": [],
   "source": [
    "train_df = train_df.dropna()"
   ]
  },
  {
   "cell_type": "code",
   "execution_count": null,
   "metadata": {},
   "outputs": [],
   "source": [
    "len(train_df)"
   ]
  },
  {
   "cell_type": "code",
   "execution_count": null,
   "metadata": {},
   "outputs": [],
   "source": [
    "train_df.columns"
   ]
  },
  {
   "cell_type": "code",
   "execution_count": null,
   "metadata": {},
   "outputs": [],
   "source": [
    "dt_columns = ['Outstanding_Debt',\n",
    "              'Monthly_Inhand_Salary',\n",
    "              'Occupation',\n",
    "              'Age',\n",
    "               'Credit_Score']\n",
    "y_column = 'Credit_Score'\n",
    "train_df = train_df[dt_columns]\n",
    "\n",
    "def convert_to_binary_classification(row):\n",
    "    label = row['Credit_Score']\n",
    "    \n",
    "    if label == 'Poor':\n",
    "        return label\n",
    "    else: return \"Good\"\n",
    "\n",
    "def convert_to_float(val)-> float:\n",
    "    if type(val) == float:\n",
    "        return round(val,3)\n",
    "    val = val.strip('_')\n",
    "    return round(float(val),3)\n",
    "\n",
    "train_df['Credit_Score'] = train_df.apply(lambda row: convert_to_binary_classification(row), axis=1 )\n",
    "\n",
    "for col in ['Outstanding_Debt','Monthly_Inhand_Salary','Age']:\n",
    "    train_df[col] =  train_df.apply(lambda row: convert_to_float(row[col]), axis=1)\n",
    "\n",
    "train_df['Age'] = train_df['Age'].clip(lower=18,upper=90) \n"
   ]
  },
  {
   "cell_type": "code",
   "execution_count": null,
   "metadata": {},
   "outputs": [],
   "source": [
    "train_df['Age'].unique()"
   ]
  },
  {
   "cell_type": "code",
   "execution_count": null,
   "metadata": {},
   "outputs": [],
   "source": [
    "train_df.query(\"Credit_Score=='Poor'\")"
   ]
  },
  {
   "cell_type": "code",
   "execution_count": null,
   "metadata": {},
   "outputs": [],
   "source": [
    "train_df['Outstanding_Debt'].iloc[0]"
   ]
  },
  {
   "cell_type": "code",
   "execution_count": null,
   "metadata": {},
   "outputs": [],
   "source": [
    "sample_size = 10000\n",
    "viz_df = train_df.sample(n=sample_size)"
   ]
  },
  {
   "cell_type": "code",
   "execution_count": null,
   "metadata": {},
   "outputs": [],
   "source": [
    "# Visualize\n",
    "from plotnine import *\n",
    "from plotnine.data import *\n",
    "\n",
    "ggplot(data=viz_df) + geom_point(mapping=aes(x='Monthly_Inhand_Salary',y='Age',color=\"Credit_Score\"))+ facet_wrap('Occupation')"
   ]
  },
  {
   "cell_type": "code",
   "execution_count": null,
   "metadata": {},
   "outputs": [],
   "source": [
    "# se -> display confidence interval around smooth\n",
    "# level -> confidence interval to use 0.95 by default\n",
    "\n",
    "ggplot(data=viz_df) +\\\n",
    "geom_smooth(mapping=aes(x='Monthly_Inhand_Salary',\n",
    "                        y='Outstanding_Debt',\n",
    "                        color=\"Credit_Score\",\n",
    "                        ),se=True,level=0.99) "
   ]
  },
  {
   "cell_type": "code",
   "execution_count": null,
   "metadata": {},
   "outputs": [],
   "source": [
    "# use global mapping withing ggplot to avoid duplicate mention of same columns\n",
    "ggplot(data=viz_df,mapping=aes(x='Monthly_Inhand_Salary',y='Outstanding_Debt')) +\\\n",
    "geom_boxplot(mapping=aes(color='Credit_Score'))"
   ]
  },
  {
   "cell_type": "markdown",
   "metadata": {},
   "source": [
    "## Decision Tree from Scratch"
   ]
  },
  {
   "cell_type": "code",
   "execution_count": null,
   "metadata": {},
   "outputs": [],
   "source": [
    "sample_df = train_df.sample(n=100)"
   ]
  },
  {
   "cell_type": "code",
   "execution_count": null,
   "metadata": {},
   "outputs": [],
   "source": [
    "ggplot(data=sample_df) +\\\n",
    "geom_point(mapping=aes(x='Monthly_Inhand_Salary',y='Age',color=\"Credit_Score\"))"
   ]
  },
  {
   "cell_type": "code",
   "execution_count": null,
   "metadata": {},
   "outputs": [],
   "source": [
    "# binary classification \n",
    "from typing import Literal, Tuple\n",
    "\n",
    "\n",
    "def node_entropy(node_df: pd.DataFrame) -> float:\n",
    "    count = len(node_df)\n",
    "    class_labels = node_df[y_column].unique()\n",
    "\n",
    "    impurity = 0\n",
    "\n",
    "    for c in class_labels:\n",
    "        pc = len(node_df[node_df[y_column]==c])/count\n",
    "        if pc > 0 :\n",
    "            impurity -= pc * np.log2(pc)\n",
    "    \n",
    "    return impurity\n",
    "\n",
    "\n",
    "def categorical_split(node_df: pd.DataFrame,col_name:str) -> Tuple[float,None]:\n",
    "    all_categories = list(node_df[col_name].unique())\n",
    "    total_size = len(node_df)\n",
    "\n",
    "    total_impurity = 0\n",
    "    for c in all_categories:\n",
    "        \n",
    "        split_df = node_df[node_df[col_name]==c]\n",
    "        w = len(split_df)/total_size\n",
    "        imp = node_entropy(split_df)\n",
    "        print(c,imp,w)\n",
    "        total_impurity+= w * imp\n",
    "\n",
    "    return total_impurity, None\n",
    "\n",
    "def binary_split(node_df:pd.DataFrame,col_name:str) -> Tuple[float,float]:\n",
    "    all_values = list(set(node_df[col_name]))\n",
    "    all_values.sort()\n",
    "    min_impurity = float('inf')\n",
    "    best_split_val = None\n",
    "    n = len(node_df)\n",
    "    for i,val in enumerate(all_values):\n",
    "        left = node_df[node_df[col_name]<=val]\n",
    "        right = node_df[node_df[col_name]>val]\n",
    "        impurity = (node_entropy(left) * len(left) + node_entropy(right) * len(right)) / n\n",
    "        if impurity < min_impurity:\n",
    "            min_impurity = impurity\n",
    "            best_split_val = val\n",
    "    return min_impurity, best_split_val\n"
   ]
  },
  {
   "cell_type": "code",
   "execution_count": null,
   "metadata": {},
   "outputs": [],
   "source": [
    "node_entropy(sample_df)"
   ]
  },
  {
   "cell_type": "code",
   "execution_count": null,
   "metadata": {},
   "outputs": [],
   "source": [
    "split1= sample_df[sample_df['Monthly_Inhand_Salary']<=7500]\n",
    "split2= sample_df[sample_df['Monthly_Inhand_Salary']>7500]\n",
    "(node_entropy(split1) * len(split1) + node_entropy(split2) *  len(split2)) /  len(sample_df)"
   ]
  },
  {
   "cell_type": "code",
   "execution_count": null,
   "metadata": {},
   "outputs": [],
   "source": [
    "split1.columns"
   ]
  },
  {
   "cell_type": "code",
   "execution_count": null,
   "metadata": {},
   "outputs": [],
   "source": [
    "ggplot(data=split1) +\\\n",
    "geom_point(mapping=aes(x='Monthly_Inhand_Salary',y='Outstanding_Debt',color=\"Credit_Score\"))"
   ]
  },
  {
   "cell_type": "code",
   "execution_count": null,
   "metadata": {},
   "outputs": [],
   "source": [
    "node_entropy(split1)"
   ]
  },
  {
   "cell_type": "code",
   "execution_count": null,
   "metadata": {},
   "outputs": [],
   "source": [
    "split11= split1[split1['Outstanding_Debt']<=2000]\n",
    "split12= split1[split1['Outstanding_Debt']>2000]\n",
    "(node_entropy(split11) * len(split11) + node_entropy(split12) *  len(split12)) /  len(split1)"
   ]
  },
  {
   "cell_type": "code",
   "execution_count": null,
   "metadata": {},
   "outputs": [],
   "source": [
    "node_entropy(split11)"
   ]
  },
  {
   "cell_type": "code",
   "execution_count": null,
   "metadata": {},
   "outputs": [],
   "source": [
    "node_entropy(split12)"
   ]
  },
  {
   "cell_type": "code",
   "execution_count": null,
   "metadata": {},
   "outputs": [],
   "source": [
    "ggplot(data=split11) +\\\n",
    "geom_point(mapping=aes(x='Age',y='Outstanding_Debt',color=\"Credit_Score\")) "
   ]
  },
  {
   "cell_type": "code",
   "execution_count": null,
   "metadata": {},
   "outputs": [],
   "source": [
    "sample_df[sample_df['Occupation']=='Doctor']['Credit_Score'].value_counts()"
   ]
  },
  {
   "cell_type": "code",
   "execution_count": null,
   "metadata": {},
   "outputs": [],
   "source": [
    "categorical_split(sample_df,'Occupation')"
   ]
  },
  {
   "cell_type": "code",
   "execution_count": null,
   "metadata": {},
   "outputs": [],
   "source": [
    "node_entropy(sample_df)"
   ]
  },
  {
   "cell_type": "code",
   "execution_count": null,
   "metadata": {},
   "outputs": [],
   "source": [
    "split1 = sample_df.query('Outstanding_Debt>2000')\n",
    "split2 = sample_df.query('Outstanding_Debt<=2000')"
   ]
  },
  {
   "cell_type": "code",
   "execution_count": null,
   "metadata": {},
   "outputs": [],
   "source": [
    "(node_entropy(split1) * len(split1) + node_entropy(split2) *  len(split2)) /  len(sample_df)"
   ]
  },
  {
   "cell_type": "code",
   "execution_count": null,
   "metadata": {},
   "outputs": [],
   "source": []
  }
 ],
 "metadata": {
  "kernelspec": {
   "display_name": "venv",
   "language": "python",
   "name": "python3"
  },
  "language_info": {
   "codemirror_mode": {
    "name": "ipython",
    "version": 3
   },
   "file_extension": ".py",
   "mimetype": "text/x-python",
   "name": "python",
   "nbconvert_exporter": "python",
   "pygments_lexer": "ipython3",
   "version": "3.11.9"
  }
 },
 "nbformat": 4,
 "nbformat_minor": 2
}
