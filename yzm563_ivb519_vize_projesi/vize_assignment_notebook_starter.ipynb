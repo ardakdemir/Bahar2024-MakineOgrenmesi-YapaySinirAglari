{
 "cells": [
  {
   "cell_type": "code",
   "execution_count": 3,
   "metadata": {},
   "outputs": [],
   "source": [
    "# do not change this code\n",
    "import pandas as pd\n",
    "train, test = pd.read_csv('train.csv') , pd.read_csv('test.csv')"
   ]
  },
  {
   "cell_type": "code",
   "execution_count": 4,
   "metadata": {},
   "outputs": [],
   "source": [
    "# do not change this code\n",
    "import numpy as np\n",
    "import pandas as pd \n",
    "x_columns_names =  ['Num_of_Delayed_Payment','Annual_Income','Monthly_Inhand_Salary']\n",
    "y_column_name = 'Credit_Score'\n",
    "label_to_index = {'Poor':0,'Good': 1}\n",
    "index_to_label = {v:k for k,v in label_to_index.items()}\n",
    "def prepare_dataset(data_frame: pd.DataFrame): \n",
    "     x_columns = [list(data_frame[col]) for col in x_columns_names]\n",
    "     return np.array(list(zip(*x_columns)),dtype=np.float64), np.array(list(data_frame[y_column_name].apply(lambda x: label_to_index[x])),dtype=np.int8)"
   ]
  },
  {
   "cell_type": "code",
   "execution_count": 5,
   "metadata": {},
   "outputs": [],
   "source": [
    "# do not change this code\n",
    "trainX, trainY = prepare_dataset(train)\n",
    "testX, testY = prepare_dataset(test)"
   ]
  },
  {
   "cell_type": "code",
   "execution_count": 6,
   "metadata": {},
   "outputs": [
    {
     "data": {
      "text/plain": [
       "[0, 1]"
      ]
     },
     "execution_count": 6,
     "metadata": {},
     "output_type": "execute_result"
    }
   ],
   "source": [
    "list(set(trainY))"
   ]
  },
  {
   "cell_type": "code",
   "execution_count": 7,
   "metadata": {},
   "outputs": [
    {
     "data": {
      "text/plain": [
       "((8000, 3), (8000,))"
      ]
     },
     "execution_count": 7,
     "metadata": {},
     "output_type": "execute_result"
    }
   ],
   "source": [
    "trainX.shape, trainY.shape"
   ]
  },
  {
   "cell_type": "code",
   "execution_count": null,
   "metadata": {},
   "outputs": [],
   "source": [
    "## Model training \n",
    "\"\"\"\n",
    "(30 puan)\n",
    "Derste gordugumuz iki modeli veya istediginiz bir modeli train veri setinde egitin.\n",
    "\n",
    "1) Multi-layer perceptron: sklearn.neural_network.MLPClassifier\n",
    "2) Bayesian classifier: sklearn.naive_bayes.GaussianNB\n",
    "\"\"\";\n",
    "def train_model(trainX, trainY):\n",
    "    #### \n",
    "    ## \n",
    "    ## Training code comes here\n",
    "    ##  Bu method iki model dondurmeli\n",
    "    ####\n",
    "    pass    \n"
   ]
  },
  {
   "cell_type": "code",
   "execution_count": null,
   "metadata": {},
   "outputs": [],
   "source": [
    "## Generate Predictions\n",
    "\"\"\"\n",
    "(20 puan)\n",
    "1- Egittimiz modeli kullanarak train setinde tahminler uretin.\n",
    "2- Egittimiz modeli kullanarak test setinde tahminler uretin.\n",
    "\"\"\"\n",
    "def generate_predictions(xs):\n",
    "    ####\n",
    "    ## Prediction code comes here, fix dummy code below\n",
    "    ####\n",
    "    return [0 for _ in range(len(xs))]"
   ]
  },
  {
   "cell_type": "code",
   "execution_count": null,
   "metadata": {},
   "outputs": [],
   "source": [
    "## Calculate Metrics\n",
    "\"\"\"\n",
    "(50 puan)\n",
    "1- Egittigimiz modeli test verisetine uygulayip performansini degerlendirelim.\n",
    "2- Her 2 grup icin hata oraninin ne oldugunu gosterin\n",
    "3- En cok hatali tahmin edilen sinifin hangisi oldugunu gosterin\n",
    "4- Test seti uzerindeki precision, recall, f1-score hesaplayin\n",
    "5- Train seti uzerindeki precision, recall, f1-score hesaplayin\n",
    "\"\"\";\n",
    "\n",
    "def calculate_metrics(y_pred,y_truth):\n",
    "    ####\n",
    "    ## Evaluation code comes here, fix dummy code below\n",
    "    ####\n",
    "    return {'precision': 0,\n",
    "            'recall': 0,\n",
    "            'f1-score': 0}\n"
   ]
  },
  {
   "cell_type": "code",
   "execution_count": null,
   "metadata": {},
   "outputs": [],
   "source": []
  }
 ],
 "metadata": {
  "kernelspec": {
   "display_name": "venv",
   "language": "python",
   "name": "python3"
  },
  "language_info": {
   "codemirror_mode": {
    "name": "ipython",
    "version": 3
   },
   "file_extension": ".py",
   "mimetype": "text/x-python",
   "name": "python",
   "nbconvert_exporter": "python",
   "pygments_lexer": "ipython3",
   "version": "3.11.9"
  }
 },
 "nbformat": 4,
 "nbformat_minor": 2
}
