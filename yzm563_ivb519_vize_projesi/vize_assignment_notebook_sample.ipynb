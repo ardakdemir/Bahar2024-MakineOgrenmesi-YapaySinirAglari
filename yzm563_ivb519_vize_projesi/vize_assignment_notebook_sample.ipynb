{
 "cells": [
  {
   "cell_type": "code",
   "execution_count": 39,
   "metadata": {},
   "outputs": [],
   "source": [
    "# do not change this code\n",
    "import pandas as pd\n",
    "train, test = pd.read_csv('train.csv') , pd.read_csv('test.csv')"
   ]
  },
  {
   "cell_type": "code",
   "execution_count": 2,
   "metadata": {},
   "outputs": [],
   "source": [
    "# do not change this code\n",
    "import numpy as np\n",
    "import pandas as pd \n",
    "x_columns_names =  ['Num_of_Delayed_Payment','Annual_Income','Monthly_Inhand_Salary']\n",
    "y_column_name = 'Credit_Score'\n",
    "label_to_index = {'Poor':0,'Good': 1}\n",
    "index_to_label = {v:k for k,v in label_to_index.items()}\n",
    "\n",
    "def prepare_dataset(data_frame: pd.DataFrame): \n",
    "     x_columns = [list(data_frame[col]) for col in x_columns_names]\n",
    "     return np.array(list(zip(*x_columns)),dtype=np.float64), np.array(list(data_frame[y_column_name].apply(lambda x: label_to_index[x])),dtype=np.int8)"
   ]
  },
  {
   "cell_type": "code",
   "execution_count": 3,
   "metadata": {},
   "outputs": [],
   "source": [
    "# do not change this code\n",
    "trainX, trainY = prepare_dataset(train)\n",
    "testX, testY = prepare_dataset(test)"
   ]
  },
  {
   "cell_type": "code",
   "execution_count": 5,
   "metadata": {},
   "outputs": [
    {
     "data": {
      "text/plain": [
       "((8000, 3), (8000,))"
      ]
     },
     "execution_count": 5,
     "metadata": {},
     "output_type": "execute_result"
    }
   ],
   "source": [
    "trainX.shape, trainY.shape"
   ]
  },
  {
   "cell_type": "code",
   "execution_count": 44,
   "metadata": {},
   "outputs": [
    {
     "data": {
      "text/html": [
       "<div>\n",
       "<style scoped>\n",
       "    .dataframe tbody tr th:only-of-type {\n",
       "        vertical-align: middle;\n",
       "    }\n",
       "\n",
       "    .dataframe tbody tr th {\n",
       "        vertical-align: top;\n",
       "    }\n",
       "\n",
       "    .dataframe thead th {\n",
       "        text-align: right;\n",
       "    }\n",
       "</style>\n",
       "<table border=\"1\" class=\"dataframe\">\n",
       "  <thead>\n",
       "    <tr style=\"text-align: right;\">\n",
       "      <th></th>\n",
       "      <th>Annual_Income</th>\n",
       "      <th>Num_of_Delayed_Payment</th>\n",
       "      <th>Monthly_Inhand_Salary</th>\n",
       "      <th>Credit_Score</th>\n",
       "    </tr>\n",
       "  </thead>\n",
       "  <tbody>\n",
       "    <tr>\n",
       "      <th>0</th>\n",
       "      <td>22380.180</td>\n",
       "      <td>16.0</td>\n",
       "      <td>1385.264539</td>\n",
       "      <td>Good</td>\n",
       "    </tr>\n",
       "    <tr>\n",
       "      <th>1</th>\n",
       "      <td>99166.770</td>\n",
       "      <td>7.0</td>\n",
       "      <td>8305.897500</td>\n",
       "      <td>Good</td>\n",
       "    </tr>\n",
       "    <tr>\n",
       "      <th>2</th>\n",
       "      <td>10496.255</td>\n",
       "      <td>17.0</td>\n",
       "      <td>1141.687917</td>\n",
       "      <td>Poor</td>\n",
       "    </tr>\n",
       "    <tr>\n",
       "      <th>3</th>\n",
       "      <td>44438.410</td>\n",
       "      <td>2.0</td>\n",
       "      <td>3974.200833</td>\n",
       "      <td>Good</td>\n",
       "    </tr>\n",
       "    <tr>\n",
       "      <th>4</th>\n",
       "      <td>15330.305</td>\n",
       "      <td>19.0</td>\n",
       "      <td>1135.525417</td>\n",
       "      <td>Good</td>\n",
       "    </tr>\n",
       "    <tr>\n",
       "      <th>5</th>\n",
       "      <td>80692.280</td>\n",
       "      <td>21.0</td>\n",
       "      <td>6856.356667</td>\n",
       "      <td>Poor</td>\n",
       "    </tr>\n",
       "    <tr>\n",
       "      <th>6</th>\n",
       "      <td>24858.670</td>\n",
       "      <td>13.0</td>\n",
       "      <td>1977.555833</td>\n",
       "      <td>Good</td>\n",
       "    </tr>\n",
       "    <tr>\n",
       "      <th>7</th>\n",
       "      <td>8983.515</td>\n",
       "      <td>19.0</td>\n",
       "      <td>968.626250</td>\n",
       "      <td>Poor</td>\n",
       "    </tr>\n",
       "    <tr>\n",
       "      <th>8</th>\n",
       "      <td>91870.710</td>\n",
       "      <td>0.0</td>\n",
       "      <td>7946.892500</td>\n",
       "      <td>Good</td>\n",
       "    </tr>\n",
       "    <tr>\n",
       "      <th>9</th>\n",
       "      <td>53979.120</td>\n",
       "      <td>17.0</td>\n",
       "      <td>4792.260000</td>\n",
       "      <td>Poor</td>\n",
       "    </tr>\n",
       "  </tbody>\n",
       "</table>\n",
       "</div>"
      ],
      "text/plain": [
       "   Annual_Income  Num_of_Delayed_Payment  Monthly_Inhand_Salary Credit_Score\n",
       "0      22380.180                    16.0            1385.264539         Good\n",
       "1      99166.770                     7.0            8305.897500         Good\n",
       "2      10496.255                    17.0            1141.687917         Poor\n",
       "3      44438.410                     2.0            3974.200833         Good\n",
       "4      15330.305                    19.0            1135.525417         Good\n",
       "5      80692.280                    21.0            6856.356667         Poor\n",
       "6      24858.670                    13.0            1977.555833         Good\n",
       "7       8983.515                    19.0             968.626250         Poor\n",
       "8      91870.710                     0.0            7946.892500         Good\n",
       "9      53979.120                    17.0            4792.260000         Poor"
      ]
     },
     "execution_count": 44,
     "metadata": {},
     "output_type": "execute_result"
    }
   ],
   "source": [
    "## Exploratory Data Analysis\n",
    "train.head(10)"
   ]
  },
  {
   "cell_type": "code",
   "execution_count": 57,
   "metadata": {},
   "outputs": [
    {
     "data": {
      "text/plain": [
       "<Axes: xlabel='Num_of_Delayed_Payment', ylabel='Annual_Income'>"
      ]
     },
     "execution_count": 57,
     "metadata": {},
     "output_type": "execute_result"
    },
    {
     "data": {
      "image/png": "[encoded data removed]",
      "text/plain": [
       "<Figure size 640x480 with 1 Axes>"
      ]
     },
     "metadata": {},
     "output_type": "display_data"
    }
   ],
   "source": [
    "import seaborn as sns\n",
    "\n",
    "sns.scatterplot(train[:200],x='Num_of_Delayed_Payment',y='Annual_Income',hue='Credit_Score')"
   ]
  },
  {
   "cell_type": "code",
   "execution_count": 61,
   "metadata": {},
   "outputs": [
    {
     "data": {
      "text/html": [
       "<div>\n",
       "<style scoped>\n",
       "    .dataframe tbody tr th:only-of-type {\n",
       "        vertical-align: middle;\n",
       "    }\n",
       "\n",
       "    .dataframe tbody tr th {\n",
       "        vertical-align: top;\n",
       "    }\n",
       "\n",
       "    .dataframe thead th {\n",
       "        text-align: right;\n",
       "    }\n",
       "</style>\n",
       "<table border=\"1\" class=\"dataframe\">\n",
       "  <thead>\n",
       "    <tr style=\"text-align: right;\">\n",
       "      <th></th>\n",
       "      <th>Annual_Income</th>\n",
       "      <th>Num_of_Delayed_Payment</th>\n",
       "      <th>Monthly_Inhand_Salary</th>\n",
       "      <th>Credit_Score</th>\n",
       "    </tr>\n",
       "  </thead>\n",
       "  <tbody>\n",
       "    <tr>\n",
       "      <th>18</th>\n",
       "      <td>128279.16</td>\n",
       "      <td>7.0</td>\n",
       "      <td>10966.930000</td>\n",
       "      <td>Good</td>\n",
       "    </tr>\n",
       "    <tr>\n",
       "      <th>25</th>\n",
       "      <td>111456.21</td>\n",
       "      <td>6.0</td>\n",
       "      <td>9328.017500</td>\n",
       "      <td>Good</td>\n",
       "    </tr>\n",
       "    <tr>\n",
       "      <th>26</th>\n",
       "      <td>117019.20</td>\n",
       "      <td>5.0</td>\n",
       "      <td>10009.600000</td>\n",
       "      <td>Good</td>\n",
       "    </tr>\n",
       "    <tr>\n",
       "      <th>39</th>\n",
       "      <td>114998.64</td>\n",
       "      <td>11.0</td>\n",
       "      <td>9729.220000</td>\n",
       "      <td>Good</td>\n",
       "    </tr>\n",
       "    <tr>\n",
       "      <th>42</th>\n",
       "      <td>101103.48</td>\n",
       "      <td>8.0</td>\n",
       "      <td>7671.987699</td>\n",
       "      <td>Good</td>\n",
       "    </tr>\n",
       "    <tr>\n",
       "      <th>...</th>\n",
       "      <td>...</td>\n",
       "      <td>...</td>\n",
       "      <td>...</td>\n",
       "      <td>...</td>\n",
       "    </tr>\n",
       "    <tr>\n",
       "      <th>7982</th>\n",
       "      <td>122332.04</td>\n",
       "      <td>8.0</td>\n",
       "      <td>10310.336667</td>\n",
       "      <td>Good</td>\n",
       "    </tr>\n",
       "    <tr>\n",
       "      <th>7987</th>\n",
       "      <td>167258.04</td>\n",
       "      <td>1.0</td>\n",
       "      <td>12986.315524</td>\n",
       "      <td>Good</td>\n",
       "    </tr>\n",
       "    <tr>\n",
       "      <th>7988</th>\n",
       "      <td>100192.32</td>\n",
       "      <td>7.0</td>\n",
       "      <td>8171.360000</td>\n",
       "      <td>Good</td>\n",
       "    </tr>\n",
       "    <tr>\n",
       "      <th>7989</th>\n",
       "      <td>118879.68</td>\n",
       "      <td>17.0</td>\n",
       "      <td>9641.640000</td>\n",
       "      <td>Good</td>\n",
       "    </tr>\n",
       "    <tr>\n",
       "      <th>7995</th>\n",
       "      <td>115645.65</td>\n",
       "      <td>3.0</td>\n",
       "      <td>9434.137500</td>\n",
       "      <td>Good</td>\n",
       "    </tr>\n",
       "  </tbody>\n",
       "</table>\n",
       "<p>751 rows × 4 columns</p>\n",
       "</div>"
      ],
      "text/plain": [
       "      Annual_Income  Num_of_Delayed_Payment  Monthly_Inhand_Salary  \\\n",
       "18        128279.16                     7.0           10966.930000   \n",
       "25        111456.21                     6.0            9328.017500   \n",
       "26        117019.20                     5.0           10009.600000   \n",
       "39        114998.64                    11.0            9729.220000   \n",
       "42        101103.48                     8.0            7671.987699   \n",
       "...             ...                     ...                    ...   \n",
       "7982      122332.04                     8.0           10310.336667   \n",
       "7987      167258.04                     1.0           12986.315524   \n",
       "7988      100192.32                     7.0            8171.360000   \n",
       "7989      118879.68                    17.0            9641.640000   \n",
       "7995      115645.65                     3.0            9434.137500   \n",
       "\n",
       "     Credit_Score  \n",
       "18           Good  \n",
       "25           Good  \n",
       "26           Good  \n",
       "39           Good  \n",
       "42           Good  \n",
       "...           ...  \n",
       "7982         Good  \n",
       "7987         Good  \n",
       "7988         Good  \n",
       "7989         Good  \n",
       "7995         Good  \n",
       "\n",
       "[751 rows x 4 columns]"
      ]
     },
     "execution_count": 61,
     "metadata": {},
     "output_type": "execute_result"
    }
   ],
   "source": [
    "train.query(\"Annual_Income>100000&Credit_Score=='Good'\")"
   ]
  },
  {
   "cell_type": "code",
   "execution_count": 16,
   "metadata": {},
   "outputs": [],
   "source": [
    "from sklearn.naive_bayes import GaussianNB\n",
    "## Model training \n",
    "\"\"\"\n",
    "(30 puan)\n",
    "Derste gordugumuz iki modeli veya istediginiz bir modeli train veri setinde egitin.\n",
    "\n",
    "1) Multi-layer perceptron: sklearn.neural_network.MLPClassifier\n",
    "2) Bayesian classifier: sklearn.naive_bayes.GaussianNB\n",
    "\"\"\";\n",
    "def train_model(trainX, trainY):\n",
    "    #### \n",
    "    ## \n",
    "    ## Training code comes here\n",
    "    ##  Bu method iki model dondurmeli\n",
    "    ####\n",
    "    clf = GaussianNB()\n",
    "    return clf.fit(trainX, trainY)   \n",
    "model = train_model(trainX,trainY)\n"
   ]
  },
  {
   "cell_type": "code",
   "execution_count": 28,
   "metadata": {},
   "outputs": [
    {
     "data": {
      "text/plain": [
       "(2000, 2000)"
      ]
     },
     "execution_count": 28,
     "metadata": {},
     "output_type": "execute_result"
    }
   ],
   "source": [
    "## Generate Predictions\n",
    "\"\"\"\n",
    "(20 puan)\n",
    "1- Egittimiz modeli kullanarak train setinde tahminler uretin.\n",
    "2- Egittimiz modeli kullanarak test setinde tahminler uretin.\n",
    "\"\"\"\n",
    "def generate_predictions(xs):\n",
    "    ####\n",
    "    ## Prediction code comes here, fix dummy code below\n",
    "    ####\n",
    "    return [model.predict([xs[i]]) for i in range(len(xs))]\n",
    "\n",
    "predictions_naive_bayes = generate_predictions(testX)\n",
    "len(predictions_naive_bayes), len(testX)"
   ]
  },
  {
   "cell_type": "code",
   "execution_count": null,
   "metadata": {},
   "outputs": [],
   "source": [
    "## Calculate Metrics\n",
    "\"\"\"\n",
    "(50 puan)\n",
    "1- Egittigimiz modeli test verisetine uygulayip performansini degerlendirelim.\n",
    "2- Her 2 grup icin hata oraninin ne oldugunu gosterin\n",
    "3- En cok hatali tahmin edilen sinifin hangisi oldugunu gosterin\n",
    "4- Test seti uzerindeki precision, recall, f1-score hesaplayin\n",
    "5- Train seti uzerindeki precision, recall, f1-score hesaplayin\n",
    "\"\"\";\n",
    "\n",
    "def calculate_metrics(y_pred,y_truth):\n",
    "    ####\n",
    "    ## Evaluation code comes here, fix dummy code below\n",
    "    ####\n",
    "    # tp,fp, fn, tn \n",
    "    return {'precision': 0,\n",
    "            'recall': 0,\n",
    "            'f1-score': 0}\n"
   ]
  },
  {
   "cell_type": "code",
   "execution_count": null,
   "metadata": {},
   "outputs": [],
   "source": []
  }
 ],
 "metadata": {
  "kernelspec": {
   "display_name": "venv",
   "language": "python",
   "name": "python3"
  },
  "language_info": {
   "codemirror_mode": {
    "name": "ipython",
    "version": 3
   },
   "file_extension": ".py",
   "mimetype": "text/x-python",
   "name": "python",
   "nbconvert_exporter": "python",
   "pygments_lexer": "ipython3",
   "version": "3.11.6"
  }
 },
 "nbformat": 4,
 "nbformat_minor": 2
}
