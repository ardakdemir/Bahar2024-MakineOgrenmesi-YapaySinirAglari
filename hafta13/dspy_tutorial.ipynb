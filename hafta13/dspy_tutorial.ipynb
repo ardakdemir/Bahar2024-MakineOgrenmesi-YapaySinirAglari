{
 "cells": [
  {
   "cell_type": "code",
   "execution_count": 1,
   "metadata": {},
   "outputs": [],
   "source": [
    "import dspy\n",
    "from custom_model import CustomLM"
   ]
  },
  {
   "cell_type": "code",
   "execution_count": 2,
   "metadata": {},
   "outputs": [],
   "source": [
    "turbo = CustomLM() # chatgpt\n",
    "dspy.configure(lm=turbo)\n"
   ]
  },
  {
   "cell_type": "code",
   "execution_count": 22,
   "metadata": {},
   "outputs": [
    {
     "data": {
      "text/plain": [
       "'- Istanbul\\n- Turkey'"
      ]
     },
     "execution_count": 22,
     "metadata": {},
     "output_type": "execute_result"
    }
   ],
   "source": [
    "# Without DSPy\n",
    "input_sentence = 'Istanbul is a city in Turkey.'\n",
    "prompt = \"Extract name entities given the following sentence: {input_sentence}\"\n",
    "turbo(prompt.format(input_sentence=input_sentence))[0]"
   ]
  },
  {
   "cell_type": "code",
   "execution_count": 3,
   "metadata": {},
   "outputs": [],
   "source": [
    "entity_extractor_prompt = \"\"\"\n",
    "Sen bir yapay zeka asistanisin. \n",
    "\n",
    "Gorevin bir cumle verildiginde icindeki gecen ozel isimleri bulman. \n",
    "\n",
    "# Ornek\n",
    "\n",
    "...\n",
    "\n",
    "\n",
    "\n",
    "\"\"\";\n",
    "\n",
    "country_extractor_prompt = \"....\""
   ]
  },
  {
   "cell_type": "code",
   "execution_count": 17,
   "metadata": {},
   "outputs": [],
   "source": [
    "entity_extractor = dspy.ChainOfThought('sentence -> noun')"
   ]
  },
  {
   "cell_type": "code",
   "execution_count": 19,
   "metadata": {},
   "outputs": [
    {
     "name": "stdout",
     "output_type": "stream",
     "text": [
      "ball\n"
     ]
    }
   ],
   "source": [
    "response = entity_extractor(sentence=\"This is a ball.\") # Prompted to turbo\n",
    "print(response.noun)"
   ]
  },
  {
   "cell_type": "code",
   "execution_count": null,
   "metadata": {},
   "outputs": [],
   "source": []
  },
  {
   "cell_type": "code",
   "execution_count": 20,
   "metadata": {},
   "outputs": [
    {
     "name": "stdout",
     "output_type": "stream",
     "text": [
      "\n",
      "\n",
      "\n",
      "Given the fields `sentence`, produce the fields `noun`.\n",
      "\n",
      "---\n",
      "\n",
      "Follow the following format.\n",
      "\n",
      "Sentence: ${sentence}\n",
      "Reasoning: Let's think step by step in order to ${produce the noun}. We ...\n",
      "Noun: ${noun}\n",
      "\n",
      "---\n",
      "\n",
      "Sentence: This is a ball.\n",
      "Reasoning: Let's think step by step in order to\u001b[32m produce the noun. We identify the subject of the sentence, which is \"ball.\" \n",
      "Noun: ball\u001b[0m\n",
      "\n",
      "\n",
      "\n"
     ]
    }
   ],
   "source": [
    "history = turbo.inspect_history()"
   ]
  },
  {
   "cell_type": "code",
   "execution_count": null,
   "metadata": {},
   "outputs": [],
   "source": [
    "from signature import EntityExtractionWithStrength\n",
    "\n",
    "entity_extractor = dspy.ChainOfThought(EntityExtractionWithStrength)\n",
    "context = [\"Python\", \"Machine Learning\", \"Deep Learning\"]\n",
    "job_description = \"We are looking for a Python developer in our team. Ideal candidate has Deep Learning experience.\"\n",
    "entity_extractor(context=context, job_description=job_description)\n"
   ]
  },
  {
   "cell_type": "code",
   "execution_count": null,
   "metadata": {},
   "outputs": [],
   "source": [
    "history = turbo.inspect_history()\n"
   ]
  },
  {
   "cell_type": "code",
   "execution_count": null,
   "metadata": {},
   "outputs": [],
   "source": [
    "from module import RecallGpt\n",
    "\n",
    "recall_gpt = RecallGpt()\n",
    "\n",
    "recall_gpt(job_description=job_description)"
   ]
  },
  {
   "cell_type": "code",
   "execution_count": null,
   "metadata": {},
   "outputs": [],
   "source": [
    "turbo.inspect_history()"
   ]
  },
  {
   "cell_type": "code",
   "execution_count": null,
   "metadata": {},
   "outputs": [],
   "source": []
  }
 ],
 "metadata": {
  "kernelspec": {
   "display_name": "venv",
   "language": "python",
   "name": "python3"
  },
  "language_info": {
   "codemirror_mode": {
    "name": "ipython",
    "version": 3
   },
   "file_extension": ".py",
   "mimetype": "text/x-python",
   "name": "python",
   "nbconvert_exporter": "python",
   "pygments_lexer": "ipython3",
   "version": "3.11.9"
  }
 },
 "nbformat": 4,
 "nbformat_minor": 2
}
