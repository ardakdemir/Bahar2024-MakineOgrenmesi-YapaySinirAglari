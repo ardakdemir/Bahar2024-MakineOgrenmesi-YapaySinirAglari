{
 "cells": [
  {
   "cell_type": "code",
   "execution_count": 1,
   "id": "f63da0a0",
   "metadata": {},
   "outputs": [],
   "source": [
    "import numpy as np\n",
    "import matplotlib.pyplot as plt\n",
    "%matplotlib inline"
   ]
  },
  {
   "cell_type": "code",
   "execution_count": 34,
   "id": "1302dea8",
   "metadata": {},
   "outputs": [],
   "source": [
    "# AND ve XOR gate MLP\n",
    "from sklearn.neural_network import MLPClassifier\n",
    "X_train = np.array([[0,0],\n",
    "                    [1,0],\n",
    "                    [0,1],\n",
    "                    [1,1]])\n",
    "Y_train = np.array([0,1,1,0])\n",
    "clf = MLPClassifier(hidden_layer_sizes=[2],\n",
    "                    activation='logistic',\n",
    "                    learning_rate_init=0.1,\n",
    "                    max_iter=100000)"
   ]
  },
  {
   "cell_type": "code",
   "execution_count": 35,
   "id": "a408ae25",
   "metadata": {},
   "outputs": [],
   "source": [
    "clf = clf.fit(X_train, Y_train)"
   ]
  },
  {
   "cell_type": "code",
   "execution_count": 36,
   "id": "a6f88b7e",
   "metadata": {},
   "outputs": [
    {
     "name": "stdout",
     "output_type": "stream",
     "text": [
      "[0 0] 0 0\n",
      "[1 0] 1 1\n",
      "[0 1] 1 1\n",
      "[1 1] 0 0\n"
     ]
    }
   ],
   "source": [
    "for x,y in zip(X_train,Y_train):\n",
    "    pred = clf.predict(np.array([x]))\n",
    "    print(x,pred[0],y)"
   ]
  },
  {
   "cell_type": "code",
   "execution_count": 37,
   "id": "2e1100b3",
   "metadata": {},
   "outputs": [
    {
     "data": {
      "text/plain": [
       "[array([[6.66514371, 9.39786466],\n",
       "        [6.65422807, 9.44901227]]),\n",
       " array([[-9.57901189],\n",
       "        [ 8.83193487]])]"
      ]
     },
     "execution_count": 37,
     "metadata": {},
     "output_type": "execute_result"
    }
   ],
   "source": [
    "clf.coefs_"
   ]
  },
  {
   "cell_type": "code",
   "execution_count": 38,
   "id": "1ef25a02",
   "metadata": {},
   "outputs": [
    {
     "data": {
      "text/plain": [
       "[array([-10.14322549,  -4.57548395]), array([-4.07040331])]"
      ]
     },
     "execution_count": 38,
     "metadata": {},
     "output_type": "execute_result"
    }
   ],
   "source": [
    "clf.intercepts_"
   ]
  },
  {
   "cell_type": "code",
   "execution_count": null,
   "id": "641f612d",
   "metadata": {},
   "outputs": [],
   "source": []
  },
  {
   "cell_type": "code",
   "execution_count": null,
   "id": "f5320e33",
   "metadata": {},
   "outputs": [],
   "source": [
    "# softmax ornek \n",
    "import numpy as np\n",
    "w = np.random.randn(20,4)\n",
    "x = np.random.randn(4,1)"
   ]
  },
  {
   "cell_type": "code",
   "execution_count": null,
   "id": "a2509321",
   "metadata": {},
   "outputs": [],
   "source": [
    "w"
   ]
  },
  {
   "cell_type": "code",
   "execution_count": null,
   "id": "a2ed3e4a",
   "metadata": {},
   "outputs": [],
   "source": [
    "x"
   ]
  },
  {
   "cell_type": "code",
   "execution_count": null,
   "id": "a65d1d93",
   "metadata": {},
   "outputs": [],
   "source": [
    "%%time\n",
    "o = np.matmul(w,x)"
   ]
  },
  {
   "cell_type": "code",
   "execution_count": null,
   "id": "048f4705",
   "metadata": {},
   "outputs": [],
   "source": [
    "y = np.exp(o) / (np.sum(np.exp(o)))"
   ]
  },
  {
   "cell_type": "code",
   "execution_count": null,
   "id": "96dabb61",
   "metadata": {},
   "outputs": [],
   "source": [
    "(np.sum(np.exp(o)))"
   ]
  },
  {
   "cell_type": "code",
   "execution_count": null,
   "id": "f4ea6692",
   "metadata": {},
   "outputs": [],
   "source": [
    "4.5144126/  (np.sum(np.exp(o)))"
   ]
  },
  {
   "cell_type": "code",
   "execution_count": null,
   "id": "c1642499",
   "metadata": {},
   "outputs": [],
   "source": [
    "np.exp(o)"
   ]
  },
  {
   "cell_type": "code",
   "execution_count": null,
   "id": "6dfef1ce",
   "metadata": {},
   "outputs": [],
   "source": []
  },
  {
   "cell_type": "code",
   "execution_count": null,
   "id": "af8a9eba",
   "metadata": {},
   "outputs": [],
   "source": []
  },
  {
   "cell_type": "code",
   "execution_count": null,
   "id": "f0b92692",
   "metadata": {},
   "outputs": [],
   "source": []
  },
  {
   "cell_type": "code",
   "execution_count": null,
   "id": "5b97f9d5",
   "metadata": {},
   "outputs": [],
   "source": []
  },
  {
   "cell_type": "code",
   "execution_count": null,
   "id": "14df223e",
   "metadata": {},
   "outputs": [],
   "source": []
  },
  {
   "cell_type": "code",
   "execution_count": null,
   "id": "0566b520",
   "metadata": {},
   "outputs": [],
   "source": []
  }
 ],
 "metadata": {
  "kernelspec": {
   "display_name": "gedik-makine-ogrenmesi",
   "language": "python",
   "name": "gedik-makine-ogrenmesi"
  },
  "language_info": {
   "codemirror_mode": {
    "name": "ipython",
    "version": 3
   },
   "file_extension": ".py",
   "mimetype": "text/x-python",
   "name": "python",
   "nbconvert_exporter": "python",
   "pygments_lexer": "ipython3",
   "version": "3.11.6"
  }
 },
 "nbformat": 4,
 "nbformat_minor": 5
}
