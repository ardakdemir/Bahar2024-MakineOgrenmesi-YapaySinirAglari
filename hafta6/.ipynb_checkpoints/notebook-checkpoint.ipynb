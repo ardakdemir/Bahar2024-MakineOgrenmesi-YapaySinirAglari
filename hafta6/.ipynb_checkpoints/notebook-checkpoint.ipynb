{
 "cells": [
  {
   "cell_type": "code",
   "execution_count": 1,
   "id": "f63da0a0",
   "metadata": {},
   "outputs": [],
   "source": [
    "import numpy as np\n",
    "import matplotlib.pyplot as plt\n",
    "%matplotlib inline"
   ]
  },
  {
   "cell_type": "code",
   "execution_count": 7,
   "id": "1302dea8",
   "metadata": {},
   "outputs": [],
   "source": [
    "# AND ve XOR gate MLP\n",
    "from sklearn.neural_network import MLPClassifier\n",
    "X_train = np.array([[0,0],\n",
    "                    [1,0],\n",
    "                    [0,1],\n",
    "                    [1,1]])\n",
    "Y_train = np.array([0,1,1,0])\n",
    "clf = MLPClassifier(hidden_layer_sizes=[1],\n",
    "                    activation='logistic',\n",
    "                    learning_rate_init=1,\n",
    "                    max_iter=100)"
   ]
  },
  {
   "cell_type": "code",
   "execution_count": 8,
   "id": "a408ae25",
   "metadata": {},
   "outputs": [],
   "source": [
    "clf = clf.fit(X_train, Y_train)"
   ]
  },
  {
   "cell_type": "code",
   "execution_count": 9,
   "id": "a6f88b7e",
   "metadata": {},
   "outputs": [
    {
     "name": "stdout",
     "output_type": "stream",
     "text": [
      "[0 0] 0 0\n",
      "[1 0] 0 0\n",
      "[0 1] 0 0\n",
      "[1 1] 1 1\n"
     ]
    }
   ],
   "source": [
    "for x,y in zip(X_train,Y_train):\n",
    "    pred = clf.predict(np.array([x]))\n",
    "    print(x,pred[0],y)"
   ]
  },
  {
   "cell_type": "code",
   "execution_count": 10,
   "id": "2e1100b3",
   "metadata": {},
   "outputs": [
    {
     "data": {
      "text/plain": [
       "[array([[-7.82830257],\n",
       "        [-8.88157098]]),\n",
       " array([[-14.39203842]])]"
      ]
     },
     "execution_count": 10,
     "metadata": {},
     "output_type": "execute_result"
    }
   ],
   "source": [
    "clf.coefs_"
   ]
  },
  {
   "cell_type": "code",
   "execution_count": 11,
   "id": "1ef25a02",
   "metadata": {},
   "outputs": [
    {
     "data": {
      "text/plain": [
       "[array([12.33060588]), array([6.71373083])]"
      ]
     },
     "execution_count": 11,
     "metadata": {},
     "output_type": "execute_result"
    }
   ],
   "source": [
    "clf.intercepts_"
   ]
  },
  {
   "cell_type": "code",
   "execution_count": null,
   "id": "641f612d",
   "metadata": {},
   "outputs": [],
   "source": []
  },
  {
   "cell_type": "code",
   "execution_count": null,
   "id": "f5320e33",
   "metadata": {},
   "outputs": [],
   "source": [
    "# softmax ornek \n",
    "import numpy as np\n",
    "w = np.random.randn(20,4)\n",
    "x = np.random.randn(4,1)"
   ]
  },
  {
   "cell_type": "code",
   "execution_count": null,
   "id": "8ff855bb",
   "metadata": {},
   "outputs": [],
   "source": [
    "w"
   ]
  },
  {
   "cell_type": "code",
   "execution_count": null,
   "id": "a2ed3e4a",
   "metadata": {},
   "outputs": [],
   "source": [
    "x"
   ]
  },
  {
   "cell_type": "code",
   "execution_count": null,
   "id": "0e2aa52b",
   "metadata": {},
   "outputs": [],
   "source": [
    "%%time\n",
    "o = np.matmul(w,x)"
   ]
  },
  {
   "cell_type": "code",
   "execution_count": null,
   "id": "1a93303b",
   "metadata": {},
   "outputs": [],
   "source": [
    "y = np.exp(o) / (np.sum(np.exp(o)))"
   ]
  },
  {
   "cell_type": "code",
   "execution_count": null,
   "id": "13630ce1",
   "metadata": {},
   "outputs": [],
   "source": [
    "(np.sum(np.exp(o)))"
   ]
  },
  {
   "cell_type": "code",
   "execution_count": null,
   "id": "117bfff2",
   "metadata": {},
   "outputs": [],
   "source": [
    "4.5144126/  (np.sum(np.exp(o)))"
   ]
  },
  {
   "cell_type": "code",
   "execution_count": null,
   "id": "c1642499",
   "metadata": {},
   "outputs": [],
   "source": [
    "np.exp(o)"
   ]
  },
  {
   "cell_type": "code",
   "execution_count": null,
   "id": "6dfef1ce",
   "metadata": {},
   "outputs": [],
   "source": []
  },
  {
   "cell_type": "code",
   "execution_count": null,
   "id": "af8a9eba",
   "metadata": {},
   "outputs": [],
   "source": []
  },
  {
   "cell_type": "code",
   "execution_count": null,
   "id": "f0b92692",
   "metadata": {},
   "outputs": [],
   "source": []
  },
  {
   "cell_type": "code",
   "execution_count": null,
   "id": "5b97f9d5",
   "metadata": {},
   "outputs": [],
   "source": []
  },
  {
   "cell_type": "code",
   "execution_count": null,
   "id": "14df223e",
   "metadata": {},
   "outputs": [],
   "source": []
  },
  {
   "cell_type": "code",
   "execution_count": null,
   "id": "0566b520",
   "metadata": {},
   "outputs": [],
   "source": []
  }
 ],
 "metadata": {
  "kernelspec": {
   "display_name": "gedik-makine-ogrenmesi",
   "language": "python",
   "name": "gedik-makine-ogrenmesi"
  },
  "language_info": {
   "codemirror_mode": {
    "name": "ipython",
    "version": 3
   },
   "file_extension": ".py",
   "mimetype": "text/x-python",
   "name": "python",
   "nbconvert_exporter": "python",
   "pygments_lexer": "ipython3",
   "version": "3.11.6"
  }
 },
 "nbformat": 4,
 "nbformat_minor": 5
}
